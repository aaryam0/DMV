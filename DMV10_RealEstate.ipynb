{
  "cells": [
    {
      "cell_type": "markdown",
      "source": [
        "Experiment No 10"
      ],
      "metadata": {
        "id": "xbuEM2yzY6GK"
      },
      "id": "xbuEM2yzY6GK"
    },
    {
      "cell_type": "markdown",
      "source": [
        "Data Wrangling\n",
        "Problem Statement: Data Wrangling on Real Estate Market\n",
        "Dataset: \"RealEstate_Prices.csv\"\n",
        "Description: The dataset contains information about housing prices in a specific real estate\n",
        "market. It includes various attributes such as property characteristics, location, sale prices,\n",
        "and other relevant features. The goal is to perform data wrangling to gain insights into the\n",
        "factors influencing housing prices and prepare the dataset for further analysis or modeling.\n",
        "Tasks to Perform:\n",
        "1. Import the \"RealEstate_Prices.csv\" dataset. Clean column names by removing spaces,\n",
        "special characters, or renaming them for clarity.\n",
        "2. Handle missing values in the dataset, deciding on an appropriate strategy (e.g.,\n",
        "imputation or removal).\n",
        "3. Perform data merging if additional datasets with relevant information are available\n",
        "(e.g., neighborhood demographics or nearby amenities).\n",
        "4. Filter and subset the data based on specific criteria, such as a particular time period,\n",
        "property type, or location.\n",
        "5. Handle categorical variables by encoding them appropriately (e.g., one-hot encoding or\n",
        "label encoding) for further analysis.\n",
        "6. Aggregate the data to calculate summary statistics or derived metrics such as average\n",
        "sale prices by neighborhood or property type.\n",
        "7. Identify and handle outliers or extreme values in the data that may affect the analysis\n",
        "or modeling process."
      ],
      "metadata": {
        "id": "SBrN37DwYuyK"
      },
      "id": "SBrN37DwYuyK"
    },
    {
      "cell_type": "code",
      "execution_count": 11,
      "id": "d14e9571",
      "metadata": {
        "colab": {
          "base_uri": "https://localhost:8080/",
          "height": 327
        },
        "id": "d14e9571",
        "outputId": "9b890ea2-a07d-4ee4-a2fe-30222b2d835d"
      },
      "outputs": [
        {
          "output_type": "execute_result",
          "data": {
            "text/plain": [
              "   Property ID Property Type  Location  Bedrooms  Bathrooms  Square Feet  \\\n",
              "0            1         House  Downtown         2          3         1148   \n",
              "1            2     Apartment    Suburb         5          1         2663   \n",
              "2            3         House  Downtown         4          3         2957   \n",
              "3            4         House     Rural         4          3         2721   \n",
              "4            5     Apartment  Downtown         2          1         2780   \n",
              "\n",
              "   Year Built  Sale Price    Neighborhood  Amenities Distance Miles  \n",
              "0      2009.0    807870.0  Neighborhood A                  4.745561  \n",
              "1      2019.0    776389.0  Neighborhood C                  1.453618  \n",
              "2         NaN         NaN  Neighborhood A                  2.480775  \n",
              "3      2001.0    186148.0  Neighborhood C                  0.141468  \n",
              "4      2009.0    405378.0  Neighborhood B                  0.305964  "
            ],
            "text/html": [
              "\n",
              "  <div id=\"df-94a8c5df-6715-4053-9a7f-30b988da2dad\" class=\"colab-df-container\">\n",
              "    <div>\n",
              "<style scoped>\n",
              "    .dataframe tbody tr th:only-of-type {\n",
              "        vertical-align: middle;\n",
              "    }\n",
              "\n",
              "    .dataframe tbody tr th {\n",
              "        vertical-align: top;\n",
              "    }\n",
              "\n",
              "    .dataframe thead th {\n",
              "        text-align: right;\n",
              "    }\n",
              "</style>\n",
              "<table border=\"1\" class=\"dataframe\">\n",
              "  <thead>\n",
              "    <tr style=\"text-align: right;\">\n",
              "      <th></th>\n",
              "      <th>Property ID</th>\n",
              "      <th>Property Type</th>\n",
              "      <th>Location</th>\n",
              "      <th>Bedrooms</th>\n",
              "      <th>Bathrooms</th>\n",
              "      <th>Square Feet</th>\n",
              "      <th>Year Built</th>\n",
              "      <th>Sale Price</th>\n",
              "      <th>Neighborhood</th>\n",
              "      <th>Amenities Distance Miles</th>\n",
              "    </tr>\n",
              "  </thead>\n",
              "  <tbody>\n",
              "    <tr>\n",
              "      <th>0</th>\n",
              "      <td>1</td>\n",
              "      <td>House</td>\n",
              "      <td>Downtown</td>\n",
              "      <td>2</td>\n",
              "      <td>3</td>\n",
              "      <td>1148</td>\n",
              "      <td>2009.0</td>\n",
              "      <td>807870.0</td>\n",
              "      <td>Neighborhood A</td>\n",
              "      <td>4.745561</td>\n",
              "    </tr>\n",
              "    <tr>\n",
              "      <th>1</th>\n",
              "      <td>2</td>\n",
              "      <td>Apartment</td>\n",
              "      <td>Suburb</td>\n",
              "      <td>5</td>\n",
              "      <td>1</td>\n",
              "      <td>2663</td>\n",
              "      <td>2019.0</td>\n",
              "      <td>776389.0</td>\n",
              "      <td>Neighborhood C</td>\n",
              "      <td>1.453618</td>\n",
              "    </tr>\n",
              "    <tr>\n",
              "      <th>2</th>\n",
              "      <td>3</td>\n",
              "      <td>House</td>\n",
              "      <td>Downtown</td>\n",
              "      <td>4</td>\n",
              "      <td>3</td>\n",
              "      <td>2957</td>\n",
              "      <td>NaN</td>\n",
              "      <td>NaN</td>\n",
              "      <td>Neighborhood A</td>\n",
              "      <td>2.480775</td>\n",
              "    </tr>\n",
              "    <tr>\n",
              "      <th>3</th>\n",
              "      <td>4</td>\n",
              "      <td>House</td>\n",
              "      <td>Rural</td>\n",
              "      <td>4</td>\n",
              "      <td>3</td>\n",
              "      <td>2721</td>\n",
              "      <td>2001.0</td>\n",
              "      <td>186148.0</td>\n",
              "      <td>Neighborhood C</td>\n",
              "      <td>0.141468</td>\n",
              "    </tr>\n",
              "    <tr>\n",
              "      <th>4</th>\n",
              "      <td>5</td>\n",
              "      <td>Apartment</td>\n",
              "      <td>Downtown</td>\n",
              "      <td>2</td>\n",
              "      <td>1</td>\n",
              "      <td>2780</td>\n",
              "      <td>2009.0</td>\n",
              "      <td>405378.0</td>\n",
              "      <td>Neighborhood B</td>\n",
              "      <td>0.305964</td>\n",
              "    </tr>\n",
              "  </tbody>\n",
              "</table>\n",
              "</div>\n",
              "    <div class=\"colab-df-buttons\">\n",
              "\n",
              "  <div class=\"colab-df-container\">\n",
              "    <button class=\"colab-df-convert\" onclick=\"convertToInteractive('df-94a8c5df-6715-4053-9a7f-30b988da2dad')\"\n",
              "            title=\"Convert this dataframe to an interactive table.\"\n",
              "            style=\"display:none;\">\n",
              "\n",
              "  <svg xmlns=\"http://www.w3.org/2000/svg\" height=\"24px\" viewBox=\"0 -960 960 960\">\n",
              "    <path d=\"M120-120v-720h720v720H120Zm60-500h600v-160H180v160Zm220 220h160v-160H400v160Zm0 220h160v-160H400v160ZM180-400h160v-160H180v160Zm440 0h160v-160H620v160ZM180-180h160v-160H180v160Zm440 0h160v-160H620v160Z\"/>\n",
              "  </svg>\n",
              "    </button>\n",
              "\n",
              "  <style>\n",
              "    .colab-df-container {\n",
              "      display:flex;\n",
              "      gap: 12px;\n",
              "    }\n",
              "\n",
              "    .colab-df-convert {\n",
              "      background-color: #E8F0FE;\n",
              "      border: none;\n",
              "      border-radius: 50%;\n",
              "      cursor: pointer;\n",
              "      display: none;\n",
              "      fill: #1967D2;\n",
              "      height: 32px;\n",
              "      padding: 0 0 0 0;\n",
              "      width: 32px;\n",
              "    }\n",
              "\n",
              "    .colab-df-convert:hover {\n",
              "      background-color: #E2EBFA;\n",
              "      box-shadow: 0px 1px 2px rgba(60, 64, 67, 0.3), 0px 1px 3px 1px rgba(60, 64, 67, 0.15);\n",
              "      fill: #174EA6;\n",
              "    }\n",
              "\n",
              "    .colab-df-buttons div {\n",
              "      margin-bottom: 4px;\n",
              "    }\n",
              "\n",
              "    [theme=dark] .colab-df-convert {\n",
              "      background-color: #3B4455;\n",
              "      fill: #D2E3FC;\n",
              "    }\n",
              "\n",
              "    [theme=dark] .colab-df-convert:hover {\n",
              "      background-color: #434B5C;\n",
              "      box-shadow: 0px 1px 3px 1px rgba(0, 0, 0, 0.15);\n",
              "      filter: drop-shadow(0px 1px 2px rgba(0, 0, 0, 0.3));\n",
              "      fill: #FFFFFF;\n",
              "    }\n",
              "  </style>\n",
              "\n",
              "    <script>\n",
              "      const buttonEl =\n",
              "        document.querySelector('#df-94a8c5df-6715-4053-9a7f-30b988da2dad button.colab-df-convert');\n",
              "      buttonEl.style.display =\n",
              "        google.colab.kernel.accessAllowed ? 'block' : 'none';\n",
              "\n",
              "      async function convertToInteractive(key) {\n",
              "        const element = document.querySelector('#df-94a8c5df-6715-4053-9a7f-30b988da2dad');\n",
              "        const dataTable =\n",
              "          await google.colab.kernel.invokeFunction('convertToInteractive',\n",
              "                                                    [key], {});\n",
              "        if (!dataTable) return;\n",
              "\n",
              "        const docLinkHtml = 'Like what you see? Visit the ' +\n",
              "          '<a target=\"_blank\" href=https://colab.research.google.com/notebooks/data_table.ipynb>data table notebook</a>'\n",
              "          + ' to learn more about interactive tables.';\n",
              "        element.innerHTML = '';\n",
              "        dataTable['output_type'] = 'display_data';\n",
              "        await google.colab.output.renderOutput(dataTable, element);\n",
              "        const docLink = document.createElement('div');\n",
              "        docLink.innerHTML = docLinkHtml;\n",
              "        element.appendChild(docLink);\n",
              "      }\n",
              "    </script>\n",
              "  </div>\n",
              "\n",
              "\n",
              "<div id=\"df-f446d861-78cd-4002-88f3-abf2593eb7c7\">\n",
              "  <button class=\"colab-df-quickchart\" onclick=\"quickchart('df-f446d861-78cd-4002-88f3-abf2593eb7c7')\"\n",
              "            title=\"Suggest charts\"\n",
              "            style=\"display:none;\">\n",
              "\n",
              "<svg xmlns=\"http://www.w3.org/2000/svg\" height=\"24px\"viewBox=\"0 0 24 24\"\n",
              "     width=\"24px\">\n",
              "    <g>\n",
              "        <path d=\"M19 3H5c-1.1 0-2 .9-2 2v14c0 1.1.9 2 2 2h14c1.1 0 2-.9 2-2V5c0-1.1-.9-2-2-2zM9 17H7v-7h2v7zm4 0h-2V7h2v10zm4 0h-2v-4h2v4z\"/>\n",
              "    </g>\n",
              "</svg>\n",
              "  </button>\n",
              "\n",
              "<style>\n",
              "  .colab-df-quickchart {\n",
              "      --bg-color: #E8F0FE;\n",
              "      --fill-color: #1967D2;\n",
              "      --hover-bg-color: #E2EBFA;\n",
              "      --hover-fill-color: #174EA6;\n",
              "      --disabled-fill-color: #AAA;\n",
              "      --disabled-bg-color: #DDD;\n",
              "  }\n",
              "\n",
              "  [theme=dark] .colab-df-quickchart {\n",
              "      --bg-color: #3B4455;\n",
              "      --fill-color: #D2E3FC;\n",
              "      --hover-bg-color: #434B5C;\n",
              "      --hover-fill-color: #FFFFFF;\n",
              "      --disabled-bg-color: #3B4455;\n",
              "      --disabled-fill-color: #666;\n",
              "  }\n",
              "\n",
              "  .colab-df-quickchart {\n",
              "    background-color: var(--bg-color);\n",
              "    border: none;\n",
              "    border-radius: 50%;\n",
              "    cursor: pointer;\n",
              "    display: none;\n",
              "    fill: var(--fill-color);\n",
              "    height: 32px;\n",
              "    padding: 0;\n",
              "    width: 32px;\n",
              "  }\n",
              "\n",
              "  .colab-df-quickchart:hover {\n",
              "    background-color: var(--hover-bg-color);\n",
              "    box-shadow: 0 1px 2px rgba(60, 64, 67, 0.3), 0 1px 3px 1px rgba(60, 64, 67, 0.15);\n",
              "    fill: var(--button-hover-fill-color);\n",
              "  }\n",
              "\n",
              "  .colab-df-quickchart-complete:disabled,\n",
              "  .colab-df-quickchart-complete:disabled:hover {\n",
              "    background-color: var(--disabled-bg-color);\n",
              "    fill: var(--disabled-fill-color);\n",
              "    box-shadow: none;\n",
              "  }\n",
              "\n",
              "  .colab-df-spinner {\n",
              "    border: 2px solid var(--fill-color);\n",
              "    border-color: transparent;\n",
              "    border-bottom-color: var(--fill-color);\n",
              "    animation:\n",
              "      spin 1s steps(1) infinite;\n",
              "  }\n",
              "\n",
              "  @keyframes spin {\n",
              "    0% {\n",
              "      border-color: transparent;\n",
              "      border-bottom-color: var(--fill-color);\n",
              "      border-left-color: var(--fill-color);\n",
              "    }\n",
              "    20% {\n",
              "      border-color: transparent;\n",
              "      border-left-color: var(--fill-color);\n",
              "      border-top-color: var(--fill-color);\n",
              "    }\n",
              "    30% {\n",
              "      border-color: transparent;\n",
              "      border-left-color: var(--fill-color);\n",
              "      border-top-color: var(--fill-color);\n",
              "      border-right-color: var(--fill-color);\n",
              "    }\n",
              "    40% {\n",
              "      border-color: transparent;\n",
              "      border-right-color: var(--fill-color);\n",
              "      border-top-color: var(--fill-color);\n",
              "    }\n",
              "    60% {\n",
              "      border-color: transparent;\n",
              "      border-right-color: var(--fill-color);\n",
              "    }\n",
              "    80% {\n",
              "      border-color: transparent;\n",
              "      border-right-color: var(--fill-color);\n",
              "      border-bottom-color: var(--fill-color);\n",
              "    }\n",
              "    90% {\n",
              "      border-color: transparent;\n",
              "      border-bottom-color: var(--fill-color);\n",
              "    }\n",
              "  }\n",
              "</style>\n",
              "\n",
              "  <script>\n",
              "    async function quickchart(key) {\n",
              "      const quickchartButtonEl =\n",
              "        document.querySelector('#' + key + ' button');\n",
              "      quickchartButtonEl.disabled = true;  // To prevent multiple clicks.\n",
              "      quickchartButtonEl.classList.add('colab-df-spinner');\n",
              "      try {\n",
              "        const charts = await google.colab.kernel.invokeFunction(\n",
              "            'suggestCharts', [key], {});\n",
              "      } catch (error) {\n",
              "        console.error('Error during call to suggestCharts:', error);\n",
              "      }\n",
              "      quickchartButtonEl.classList.remove('colab-df-spinner');\n",
              "      quickchartButtonEl.classList.add('colab-df-quickchart-complete');\n",
              "    }\n",
              "    (() => {\n",
              "      let quickchartButtonEl =\n",
              "        document.querySelector('#df-f446d861-78cd-4002-88f3-abf2593eb7c7 button');\n",
              "      quickchartButtonEl.style.display =\n",
              "        google.colab.kernel.accessAllowed ? 'block' : 'none';\n",
              "    })();\n",
              "  </script>\n",
              "</div>\n",
              "\n",
              "    </div>\n",
              "  </div>\n"
            ],
            "application/vnd.google.colaboratory.intrinsic+json": {
              "type": "dataframe",
              "variable_name": "data",
              "summary": "{\n  \"name\": \"data\",\n  \"rows\": 100,\n  \"fields\": [\n    {\n      \"column\": \"Property ID\",\n      \"properties\": {\n        \"dtype\": \"number\",\n        \"std\": 29,\n        \"min\": 1,\n        \"max\": 100,\n        \"num_unique_values\": 100,\n        \"samples\": [\n          84,\n          54,\n          71\n        ],\n        \"semantic_type\": \"\",\n        \"description\": \"\"\n      }\n    },\n    {\n      \"column\": \"Property Type\",\n      \"properties\": {\n        \"dtype\": \"category\",\n        \"num_unique_values\": 3,\n        \"samples\": [\n          \"House\",\n          \"Apartment\",\n          \"Condo\"\n        ],\n        \"semantic_type\": \"\",\n        \"description\": \"\"\n      }\n    },\n    {\n      \"column\": \"Location\",\n      \"properties\": {\n        \"dtype\": \"category\",\n        \"num_unique_values\": 3,\n        \"samples\": [\n          \"Downtown\",\n          \"Suburb\",\n          \"Rural\"\n        ],\n        \"semantic_type\": \"\",\n        \"description\": \"\"\n      }\n    },\n    {\n      \"column\": \"Bedrooms\",\n      \"properties\": {\n        \"dtype\": \"number\",\n        \"std\": 1,\n        \"min\": 1,\n        \"max\": 5,\n        \"num_unique_values\": 5,\n        \"samples\": [\n          5,\n          1,\n          4\n        ],\n        \"semantic_type\": \"\",\n        \"description\": \"\"\n      }\n    },\n    {\n      \"column\": \"Bathrooms\",\n      \"properties\": {\n        \"dtype\": \"number\",\n        \"std\": 0,\n        \"min\": 1,\n        \"max\": 3,\n        \"num_unique_values\": 3,\n        \"samples\": [\n          3,\n          1,\n          2\n        ],\n        \"semantic_type\": \"\",\n        \"description\": \"\"\n      }\n    },\n    {\n      \"column\": \"Square Feet\",\n      \"properties\": {\n        \"dtype\": \"number\",\n        \"std\": 571,\n        \"min\": 1009,\n        \"max\": 2992,\n        \"num_unique_values\": 97,\n        \"samples\": [\n          1030,\n          2531,\n          1111\n        ],\n        \"semantic_type\": \"\",\n        \"description\": \"\"\n      }\n    },\n    {\n      \"column\": \"Year Built\",\n      \"properties\": {\n        \"dtype\": \"number\",\n        \"std\": 8.152036322449234,\n        \"min\": 1990.0,\n        \"max\": 2021.0,\n        \"num_unique_values\": 29,\n        \"samples\": [\n          2005.0,\n          2010.0,\n          2021.0\n        ],\n        \"semantic_type\": \"\",\n        \"description\": \"\"\n      }\n    },\n    {\n      \"column\": \"Sale Price\",\n      \"properties\": {\n        \"dtype\": \"number\",\n        \"std\": 257952.86367987213,\n        \"min\": 105724.0,\n        \"max\": 990374.0,\n        \"num_unique_values\": 90,\n        \"samples\": [\n          105724.0,\n          934932.0,\n          133501.0\n        ],\n        \"semantic_type\": \"\",\n        \"description\": \"\"\n      }\n    },\n    {\n      \"column\": \"Neighborhood\",\n      \"properties\": {\n        \"dtype\": \"category\",\n        \"num_unique_values\": 3,\n        \"samples\": [\n          \"Neighborhood A\",\n          \"Neighborhood C\",\n          \"Neighborhood B\"\n        ],\n        \"semantic_type\": \"\",\n        \"description\": \"\"\n      }\n    },\n    {\n      \"column\": \"Amenities Distance Miles\",\n      \"properties\": {\n        \"dtype\": \"number\",\n        \"std\": 1.3867506394388167,\n        \"min\": 0.1414681657823067,\n        \"max\": 4.996102298728468,\n        \"num_unique_values\": 100,\n        \"samples\": [\n          3.1026338375335363,\n          0.3712976035944784,\n          1.1324354146890698\n        ],\n        \"semantic_type\": \"\",\n        \"description\": \"\"\n      }\n    }\n  ]\n}"
            }
          },
          "metadata": {},
          "execution_count": 11
        }
      ],
      "source": [
        "import pandas as pd\n",
        "import numpy as np\n",
        "import warnings\n",
        "warnings.filterwarnings(\"ignore\")\n",
        "\n",
        "# 1. Import the dataset and clean column names\n",
        "data = pd.read_csv(\"RealEstate_Prices.csv\")\n",
        "data.head()"
      ]
    },
    {
      "cell_type": "code",
      "execution_count": 12,
      "id": "a1c8f2a7",
      "metadata": {
        "id": "a1c8f2a7"
      },
      "outputs": [],
      "source": [
        "# Clean column names by removing spaces, special characters, and renaming for clarity\n",
        "data.columns = data.columns.str.strip().str.replace(' ', '_').str.replace(r'[^\\w\\s]', '')\n"
      ]
    },
    {
      "cell_type": "code",
      "execution_count": 13,
      "id": "2f331f0d",
      "metadata": {
        "colab": {
          "base_uri": "https://localhost:8080/",
          "height": 0
        },
        "id": "2f331f0d",
        "outputId": "2ce1f212-bfbd-4776-83c6-4415a920b7d7"
      },
      "outputs": [
        {
          "output_type": "stream",
          "name": "stdout",
          "text": [
            "Cleaned Column Names:\n",
            "   Property_ID Property_Type  Location  Bedrooms  Bathrooms  Square_Feet  \\\n",
            "0            1         House  Downtown         2          3         1148   \n",
            "1            2     Apartment    Suburb         5          1         2663   \n",
            "2            3         House  Downtown         4          3         2957   \n",
            "3            4         House     Rural         4          3         2721   \n",
            "4            5     Apartment  Downtown         2          1         2780   \n",
            "\n",
            "   Year_Built  Sale_Price    Neighborhood  Amenities_Distance_Miles  \n",
            "0      2009.0    807870.0  Neighborhood A                  4.745561  \n",
            "1      2019.0    776389.0  Neighborhood C                  1.453618  \n",
            "2         NaN         NaN  Neighborhood A                  2.480775  \n",
            "3      2001.0    186148.0  Neighborhood C                  0.141468  \n",
            "4      2009.0    405378.0  Neighborhood B                  0.305964  \n"
          ]
        }
      ],
      "source": [
        "# Display the first few rows to verify column cleaning\n",
        "print(\"Cleaned Column Names:\")\n",
        "print(data.head())"
      ]
    },
    {
      "cell_type": "code",
      "execution_count": 14,
      "id": "b2b99488",
      "metadata": {
        "colab": {
          "base_uri": "https://localhost:8080/",
          "height": 0
        },
        "id": "b2b99488",
        "outputId": "ddfe0301-971d-43e4-8eca-90977141e0ed"
      },
      "outputs": [
        {
          "output_type": "stream",
          "name": "stdout",
          "text": [
            "\n",
            "Missing Values after Imputation:\n",
            "Property_ID                 0\n",
            "Property_Type               0\n",
            "Location                    0\n",
            "Bedrooms                    0\n",
            "Bathrooms                   0\n",
            "Square_Feet                 0\n",
            "Year_Built                  0\n",
            "Sale_Price                  0\n",
            "Neighborhood                0\n",
            "Amenities_Distance_Miles    0\n",
            "dtype: int64\n"
          ]
        }
      ],
      "source": [
        "# 2. Handle missing values\n",
        "# Decide on a strategy to handle missing values. Example: filling numerical with mean and categorical with mode.\n",
        "for column in data.columns:\n",
        "    if data[column].dtype == 'object':  # Check if column is categorical\n",
        "        data[column].fillna(data[column].mode()[0], inplace=True)\n",
        "    else:  # Numeric column\n",
        "        data[column].fillna(data[column].mean(), inplace=True)\n",
        "\n",
        "# Display summary of missing values to ensure they are handled\n",
        "print(\"\\nMissing Values after Imputation:\")\n",
        "print(data.isnull().sum())"
      ]
    },
    {
      "cell_type": "code",
      "execution_count": 15,
      "id": "9f12505a",
      "metadata": {
        "id": "9f12505a"
      },
      "outputs": [],
      "source": [
        "# 4. Filter and subset data based on criteria\n",
        "# Example: Filter properties sold after 2015 and of type 'Single Family'\n",
        "filtered_data = data[(data['Year_Built'] > 2015) & (data['Property_Type'] == 'Single Family')]"
      ]
    },
    {
      "cell_type": "code",
      "execution_count": 16,
      "id": "54031a89",
      "metadata": {
        "id": "54031a89"
      },
      "outputs": [],
      "source": [
        "# 5. Handle categorical variables by encoding\n",
        "# Example of one-hot encoding categorical variables\n",
        "encoded_data = pd.get_dummies(filtered_data, columns=['Property_Type'], drop_first=True)"
      ]
    },
    {
      "cell_type": "code",
      "execution_count": 17,
      "id": "2f9d3239",
      "metadata": {
        "colab": {
          "base_uri": "https://localhost:8080/",
          "height": 0
        },
        "id": "2f9d3239",
        "outputId": "f84f1a3e-df65-497e-ca63-6984b8eda345"
      },
      "outputs": [
        {
          "output_type": "stream",
          "name": "stdout",
          "text": [
            "Current Columns in encoded_data:\n",
            "Index(['Property_ID', 'Location', 'Bedrooms', 'Bathrooms', 'Square_Feet',\n",
            "       'Year_Built', 'Sale_Price', 'Neighborhood', 'Amenities_Distance_Miles'],\n",
            "      dtype='object')\n"
          ]
        }
      ],
      "source": [
        "# Print the column names to identify the correct one\n",
        "print(\"Current Columns in encoded_data:\")\n",
        "print(encoded_data.columns)"
      ]
    },
    {
      "cell_type": "code",
      "execution_count": 18,
      "id": "6785edfb",
      "metadata": {
        "colab": {
          "base_uri": "https://localhost:8080/",
          "height": 0
        },
        "id": "6785edfb",
        "outputId": "2a8c0d56-7f18-4f89-8349-d55ae376ae32"
      },
      "outputs": [
        {
          "output_type": "stream",
          "name": "stdout",
          "text": [
            "\n",
            "Average Sale Price by Neighborhood:\n",
            "     Neighborhood  Average_Sale_Price\n",
            "0  Neighborhood A       533672.207207\n",
            "1  Neighborhood B       542188.843137\n",
            "2  Neighborhood C       642901.030651\n"
          ]
        }
      ],
      "source": [
        "# Assuming the relevant column for aggregation is 'Neighborhood' and the target is 'Sale_Price'\n",
        "# Replace 'Neighborhood' and 'Sale_Price' with the actual column names if they are different\n",
        "avg_price_by_neighborhood = data.groupby('Neighborhood').agg({'Sale_Price': 'mean'}).reset_index()\n",
        "avg_price_by_neighborhood.rename(columns={'Sale_Price': 'Average_Sale_Price'}, inplace=True)\n",
        "\n",
        "# Display the result\n",
        "print(\"\\nAverage Sale Price by Neighborhood:\")\n",
        "print(avg_price_by_neighborhood)"
      ]
    },
    {
      "cell_type": "code",
      "execution_count": 19,
      "id": "7d2dff3a",
      "metadata": {
        "colab": {
          "base_uri": "https://localhost:8080/",
          "height": 0
        },
        "id": "7d2dff3a",
        "outputId": "268b1dda-9774-400c-f2fe-ce5b95ea2dec"
      },
      "outputs": [
        {
          "output_type": "stream",
          "name": "stdout",
          "text": [
            "\n",
            "Number of rows before outlier removal: 0\n",
            "Number of rows after outlier removal: 0\n"
          ]
        }
      ],
      "source": [
        "# 7. Identify and handle outliers\n",
        "# Using IQR to identify outliers in 'Sale_Price'\n",
        "Q1 = encoded_data['Sale_Price'].quantile(0.25)\n",
        "Q3 = encoded_data['Sale_Price'].quantile(0.75)\n",
        "IQR = Q3 - Q1\n",
        "\n",
        "# Define limits for outliers\n",
        "lower_bound = Q1 - 1.5 * IQR\n",
        "upper_bound = Q3 + 1.5 * IQR\n",
        "\n",
        "# Filter out outliers\n",
        "outlier_filtered_data = encoded_data[(encoded_data['Sale_Price'] >= lower_bound) & (encoded_data['Sale_Price'] <= upper_bound)]\n",
        "\n",
        "# Display number of rows before and after outlier removal\n",
        "print(\"\\nNumber of rows before outlier removal:\", len(encoded_data))\n",
        "print(\"Number of rows after outlier removal:\", len(outlier_filtered_data))\n"
      ]
    },
    {
      "cell_type": "code",
      "execution_count": 20,
      "id": "0046b65a",
      "metadata": {
        "colab": {
          "base_uri": "https://localhost:8080/",
          "height": 0
        },
        "id": "0046b65a",
        "outputId": "3db463c6-f55a-4386-c482-5609fd61482a"
      },
      "outputs": [
        {
          "output_type": "stream",
          "name": "stdout",
          "text": [
            "\n",
            "Data wrangling completed! Cleaned dataset saved as 'Cleaned_RealEstate_Data.csv'.\n"
          ]
        }
      ],
      "source": [
        "cleaned_data = outlier_filtered_data\n",
        "cleaned_data.to_csv(\"Cleaned_RealEstate_Data.csv\", index=False)\n",
        "print(\"\\nData wrangling completed! Cleaned dataset saved as 'Cleaned_RealEstate_Data.csv'.\")"
      ]
    },
    {
      "cell_type": "code",
      "execution_count": 20,
      "id": "a529a518",
      "metadata": {
        "id": "a529a518"
      },
      "outputs": [],
      "source": []
    }
  ],
  "metadata": {
    "kernelspec": {
      "display_name": "Python 3",
      "language": "python",
      "name": "python3"
    },
    "language_info": {
      "codemirror_mode": {
        "name": "ipython",
        "version": 3
      },
      "file_extension": ".py",
      "mimetype": "text/x-python",
      "name": "python",
      "nbconvert_exporter": "python",
      "pygments_lexer": "ipython3",
      "version": "3.12.3"
    },
    "colab": {
      "provenance": []
    }
  },
  "nbformat": 4,
  "nbformat_minor": 5
}